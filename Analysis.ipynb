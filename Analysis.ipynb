{
 "cells": [
  {
   "cell_type": "code",
   "execution_count": 8,
   "metadata": {},
   "outputs": [],
   "source": [
    "import pandas as pd\n",
    "import numpy as np \n",
    "import matplotlib.pyplot as plt\n",
    "\n",
    "#import data file\n",
    "df = pd.read_csv(\"Data/Export/Export.csv\")\n",
    "df2 = pd.read_csv(\"Data/transcript.csv\")\n",
    "\n",
    "#drop duplicate IDs\n",
    "df = df.drop_duplicates(subset=(['ID']))\n",
    "\n",
    "#drop instances without a math, english, and science class\n",
    "df = df.dropna(subset=(['math9', 'math10', 'eng9', 'eng10', 'bio9', 'phys10']))\n",
    "\n",
    "#replace double_math nan with 0 and yes with 1\n",
    "df['Double_Math'] = df['Double_Math'].fillna(0)\n",
    "df['Double_Math'] = df['Double_Math'].replace('yes', 1)\n",
    "\n",
    "#show first few rows\n",
    "#df.head()"
   ]
  },
  {
   "cell_type": "code",
   "execution_count": 10,
   "metadata": {},
   "outputs": [
    {
     "data": {
      "text/plain": [
       "Index(['ID', 'math9', 'math9_score', 'math10', 'math10_score', 'eng9',\n",
       "       'eng9_score', 'eng10', 'eng10_score', 'hist9', 'hist9_score', 'bio9',\n",
       "       'bio_score', 'phys10', 'phys10_score', 'chem11', 'chem11_score',\n",
       "       'Gender', 'Counselor', 'ELL_Status', 'Double_Math', 'FRPL_Status',\n",
       "       'Grade_Level', 'Home_Language', 'Date_of_Birth', 'Race_Ethnicity',\n",
       "       'Transfer_Student', 'Special_Education_Status', 'schoolName'],\n",
       "      dtype='object')"
      ]
     },
     "execution_count": 10,
     "metadata": {},
     "output_type": "execute_result"
    }
   ],
   "source": [
    "df.columns"
   ]
  },
  {
   "cell_type": "code",
   "execution_count": 16,
   "metadata": {},
   "outputs": [
    {
     "data": {
      "text/plain": [
       "<bound method Series.unique of 0       Hispanic\n",
       "6       Hispanic\n",
       "15      Hispanic\n",
       "16           NaN\n",
       "25           NaN\n",
       "          ...   \n",
       "2909         NaN\n",
       "2912         NaN\n",
       "2913         NaN\n",
       "2915         NaN\n",
       "2959         NaN\n",
       "Name: Race_Ethnicity, Length: 972, dtype: object>"
      ]
     },
     "execution_count": 16,
     "metadata": {},
     "output_type": "execute_result"
    }
   ],
   "source": [
    "#count number of unique values for gender\n",
    "df.Gender.unique #returns mostly NaN\n",
    "df.Counselor.unique #returns mostly NaN\n",
    "df.FRPL_Status.unique #mostly NaN \n",
    "df.Race_Ethnicity.unique #mostly NaN"
   ]
  },
  {
   "cell_type": "code",
   "execution_count": null,
   "metadata": {},
   "outputs": [],
   "source": []
  }
 ],
 "metadata": {
  "kernelspec": {
   "display_name": "base",
   "language": "python",
   "name": "python3"
  },
  "language_info": {
   "codemirror_mode": {
    "name": "ipython",
    "version": 3
   },
   "file_extension": ".py",
   "mimetype": "text/x-python",
   "name": "python",
   "nbconvert_exporter": "python",
   "pygments_lexer": "ipython3",
   "version": "3.9.12"
  },
  "orig_nbformat": 4
 },
 "nbformat": 4,
 "nbformat_minor": 2
}
